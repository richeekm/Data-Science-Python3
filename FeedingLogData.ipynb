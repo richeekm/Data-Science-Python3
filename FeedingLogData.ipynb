{
 "cells": [
  {
   "cell_type": "code",
   "execution_count": 1,
   "metadata": {},
   "outputs": [],
   "source": [
    "import gspread\n",
    "import pandas as pd"
   ]
  },
  {
   "cell_type": "code",
   "execution_count": 2,
   "metadata": {},
   "outputs": [],
   "source": [
    "from oauth2client.service_account import ServiceAccountCredentials"
   ]
  },
  {
   "cell_type": "code",
   "execution_count": 67,
   "metadata": {},
   "outputs": [
    {
     "data": {
      "text/plain": [
       "<gspread.client.Client at 0x2cc537d8ba8>"
      ]
     },
     "execution_count": 67,
     "metadata": {},
     "output_type": "execute_result"
    }
   ],
   "source": [
    "# This cell of code sets up the authorization of the API\n",
    "scope = ['https://spreadsheets.google.com/feeds']\n",
    "creds = ServiceAccountCredentials.from_json_keyfile_name('C:\\\\Users\\\\riche\\\\Documents\\\\DataScience-Python3\\\\client_secret.json',scope)\n",
    "client= gspread.authorize(creds)\n",
    "client"
   ]
  },
  {
   "cell_type": "code",
   "execution_count": 68,
   "metadata": {},
   "outputs": [],
   "source": [
    "# Using the spreadsheet key to open the workbook and the worksheet id to open the specific sheet\n",
    "sheet = client.open_by_key('1akG4vWlTykYY-ewhLdwOXTHk629ZPqB_w0ZhrvRHyy8').get_worksheet(0)\n",
    "# Getting all rows into a list \n",
    "result = sheet.get_all_values()"
   ]
  },
  {
   "cell_type": "code",
   "execution_count": 81,
   "metadata": {},
   "outputs": [],
   "source": [
    "# The sheet has some rows on top that are not in format - these are being removed and a new list being made\n",
    "result_parsed = result[4:]"
   ]
  },
  {
   "cell_type": "code",
   "execution_count": 70,
   "metadata": {},
   "outputs": [],
   "source": [
    "# Importing the list into a dataframe with the first element of the list as the column names\n",
    "df= pd.DataFrame(result_parsed,columns=result_parsed[0])\n",
    "df.drop(labels=[0,1], axis=0,inplace=True)\n",
    "df.reset_index(inplace=True)\n",
    "df['index']=df['index'].apply(lambda x:x-2)"
   ]
  },
  {
   "cell_type": "code",
   "execution_count": 71,
   "metadata": {},
   "outputs": [
    {
     "data": {
      "text/html": [
       "<div>\n",
       "<style scoped>\n",
       "    .dataframe tbody tr th:only-of-type {\n",
       "        vertical-align: middle;\n",
       "    }\n",
       "\n",
       "    .dataframe tbody tr th {\n",
       "        vertical-align: top;\n",
       "    }\n",
       "\n",
       "    .dataframe thead th {\n",
       "        text-align: right;\n",
       "    }\n",
       "</style>\n",
       "<table border=\"1\" class=\"dataframe\">\n",
       "  <thead>\n",
       "    <tr style=\"text-align: right;\">\n",
       "      <th></th>\n",
       "      <th>index</th>\n",
       "      <th>Day</th>\n",
       "      <th>Date</th>\n",
       "      <th>Time</th>\n",
       "      <th>Activity</th>\n",
       "      <th>Sleep Duration</th>\n",
       "      <th>DateTime</th>\n",
       "      <th></th>\n",
       "      <th></th>\n",
       "    </tr>\n",
       "  </thead>\n",
       "  <tbody>\n",
       "    <tr>\n",
       "      <th>0</th>\n",
       "      <td>0</td>\n",
       "      <td>365</td>\n",
       "      <td>3/5/2018</td>\n",
       "      <td>9:55 AM</td>\n",
       "      <td>Nap Start</td>\n",
       "      <td></td>\n",
       "      <td>3/5/2018 9:55:00</td>\n",
       "      <td></td>\n",
       "      <td></td>\n",
       "    </tr>\n",
       "    <tr>\n",
       "      <th>1</th>\n",
       "      <td>1</td>\n",
       "      <td>365</td>\n",
       "      <td>3/5/2018</td>\n",
       "      <td>11:05 AM</td>\n",
       "      <td>Nap End</td>\n",
       "      <td>1:10:00</td>\n",
       "      <td>3/5/2018 11:05:00</td>\n",
       "      <td></td>\n",
       "      <td></td>\n",
       "    </tr>\n",
       "    <tr>\n",
       "      <th>2</th>\n",
       "      <td>2</td>\n",
       "      <td>365</td>\n",
       "      <td>3/5/2018</td>\n",
       "      <td>3:11 PM</td>\n",
       "      <td>Nap Start</td>\n",
       "      <td></td>\n",
       "      <td>3/5/2018 15:11:00</td>\n",
       "      <td></td>\n",
       "      <td></td>\n",
       "    </tr>\n",
       "    <tr>\n",
       "      <th>3</th>\n",
       "      <td>3</td>\n",
       "      <td>365</td>\n",
       "      <td>3/5/2018</td>\n",
       "      <td>4:27 PM</td>\n",
       "      <td>Nap End</td>\n",
       "      <td>1:16:00</td>\n",
       "      <td>3/5/2018 16:27:00</td>\n",
       "      <td></td>\n",
       "      <td></td>\n",
       "    </tr>\n",
       "    <tr>\n",
       "      <th>4</th>\n",
       "      <td>4</td>\n",
       "      <td>365</td>\n",
       "      <td>3/5/2018</td>\n",
       "      <td>8:00 PM</td>\n",
       "      <td>Nap Start</td>\n",
       "      <td></td>\n",
       "      <td>3/5/2018 20:00:00</td>\n",
       "      <td></td>\n",
       "      <td></td>\n",
       "    </tr>\n",
       "  </tbody>\n",
       "</table>\n",
       "</div>"
      ],
      "text/plain": [
       "   index  Day      Date      Time   Activity Sleep Duration  \\\n",
       "0      0  365  3/5/2018   9:55 AM  Nap Start                  \n",
       "1      1  365  3/5/2018  11:05 AM    Nap End        1:10:00   \n",
       "2      2  365  3/5/2018   3:11 PM  Nap Start                  \n",
       "3      3  365  3/5/2018   4:27 PM    Nap End        1:16:00   \n",
       "4      4  365  3/5/2018   8:00 PM  Nap Start                  \n",
       "\n",
       "            DateTime      \n",
       "0   3/5/2018 9:55:00      \n",
       "1  3/5/2018 11:05:00      \n",
       "2  3/5/2018 15:11:00      \n",
       "3  3/5/2018 16:27:00      \n",
       "4  3/5/2018 20:00:00      "
      ]
     },
     "execution_count": 71,
     "metadata": {},
     "output_type": "execute_result"
    }
   ],
   "source": [
    "df.head()"
   ]
  },
  {
   "cell_type": "code",
   "execution_count": null,
   "metadata": {},
   "outputs": [],
   "source": []
  },
  {
   "cell_type": "code",
   "execution_count": null,
   "metadata": {},
   "outputs": [],
   "source": []
  },
  {
   "cell_type": "code",
   "execution_count": 38,
   "metadata": {},
   "outputs": [],
   "source": [
    "import datetime as dt"
   ]
  },
  {
   "cell_type": "code",
   "execution_count": 72,
   "metadata": {},
   "outputs": [
    {
     "data": {
      "text/plain": [
       "datetime.datetime(2019, 3, 14, 19, 0)"
      ]
     },
     "execution_count": 72,
     "metadata": {},
     "output_type": "execute_result"
    }
   ],
   "source": [
    "#Sample use of function strptime to get a datetime from a string\n",
    "date = dt.datetime.strptime(df['DateTime'][1834],'%m/%d/%Y %H:%M:%S')\n",
    "date"
   ]
  },
  {
   "cell_type": "code",
   "execution_count": 100,
   "metadata": {},
   "outputs": [],
   "source": []
  },
  {
   "cell_type": "code",
   "execution_count": 73,
   "metadata": {},
   "outputs": [
    {
     "data": {
      "text/html": [
       "<div>\n",
       "<style scoped>\n",
       "    .dataframe tbody tr th:only-of-type {\n",
       "        vertical-align: middle;\n",
       "    }\n",
       "\n",
       "    .dataframe tbody tr th {\n",
       "        vertical-align: top;\n",
       "    }\n",
       "\n",
       "    .dataframe thead th {\n",
       "        text-align: right;\n",
       "    }\n",
       "</style>\n",
       "<table border=\"1\" class=\"dataframe\">\n",
       "  <thead>\n",
       "    <tr style=\"text-align: right;\">\n",
       "      <th></th>\n",
       "      <th>index</th>\n",
       "      <th>Day</th>\n",
       "      <th>Date</th>\n",
       "      <th>Time</th>\n",
       "      <th>Activity</th>\n",
       "      <th>Sleep Duration</th>\n",
       "      <th>DateTime</th>\n",
       "      <th></th>\n",
       "      <th></th>\n",
       "    </tr>\n",
       "  </thead>\n",
       "  <tbody>\n",
       "    <tr>\n",
       "      <th>0</th>\n",
       "      <td>0</td>\n",
       "      <td>365</td>\n",
       "      <td>3/5/2018</td>\n",
       "      <td>9:55 AM</td>\n",
       "      <td>Nap Start</td>\n",
       "      <td></td>\n",
       "      <td>3/5/2018 9:55:00</td>\n",
       "      <td></td>\n",
       "      <td></td>\n",
       "    </tr>\n",
       "    <tr>\n",
       "      <th>1</th>\n",
       "      <td>1</td>\n",
       "      <td>365</td>\n",
       "      <td>3/5/2018</td>\n",
       "      <td>11:05 AM</td>\n",
       "      <td>Nap End</td>\n",
       "      <td>1:10:00</td>\n",
       "      <td>3/5/2018 11:05:00</td>\n",
       "      <td></td>\n",
       "      <td></td>\n",
       "    </tr>\n",
       "    <tr>\n",
       "      <th>2</th>\n",
       "      <td>2</td>\n",
       "      <td>365</td>\n",
       "      <td>3/5/2018</td>\n",
       "      <td>3:11 PM</td>\n",
       "      <td>Nap Start</td>\n",
       "      <td></td>\n",
       "      <td>3/5/2018 15:11:00</td>\n",
       "      <td></td>\n",
       "      <td></td>\n",
       "    </tr>\n",
       "    <tr>\n",
       "      <th>3</th>\n",
       "      <td>3</td>\n",
       "      <td>365</td>\n",
       "      <td>3/5/2018</td>\n",
       "      <td>4:27 PM</td>\n",
       "      <td>Nap End</td>\n",
       "      <td>1:16:00</td>\n",
       "      <td>3/5/2018 16:27:00</td>\n",
       "      <td></td>\n",
       "      <td></td>\n",
       "    </tr>\n",
       "    <tr>\n",
       "      <th>4</th>\n",
       "      <td>4</td>\n",
       "      <td>365</td>\n",
       "      <td>3/5/2018</td>\n",
       "      <td>8:00 PM</td>\n",
       "      <td>Nap Start</td>\n",
       "      <td></td>\n",
       "      <td>3/5/2018 20:00:00</td>\n",
       "      <td></td>\n",
       "      <td></td>\n",
       "    </tr>\n",
       "  </tbody>\n",
       "</table>\n",
       "</div>"
      ],
      "text/plain": [
       "   index  Day      Date      Time   Activity Sleep Duration  \\\n",
       "0      0  365  3/5/2018   9:55 AM  Nap Start                  \n",
       "1      1  365  3/5/2018  11:05 AM    Nap End        1:10:00   \n",
       "2      2  365  3/5/2018   3:11 PM  Nap Start                  \n",
       "3      3  365  3/5/2018   4:27 PM    Nap End        1:16:00   \n",
       "4      4  365  3/5/2018   8:00 PM  Nap Start                  \n",
       "\n",
       "            DateTime      \n",
       "0   3/5/2018 9:55:00      \n",
       "1  3/5/2018 11:05:00      \n",
       "2  3/5/2018 15:11:00      \n",
       "3  3/5/2018 16:27:00      \n",
       "4  3/5/2018 20:00:00      "
      ]
     },
     "execution_count": 73,
     "metadata": {},
     "output_type": "execute_result"
    }
   ],
   "source": [
    "df.head()"
   ]
  },
  {
   "cell_type": "code",
   "execution_count": 74,
   "metadata": {},
   "outputs": [],
   "source": [
    "difflist = []\n",
    "for index in df.index:\n",
    "#     print(\"Current index:\", index,df['Activity'][index],df['DateTime'][index])\n",
    "    \n",
    "    if index == 0:\n",
    "        difflist.append(dt.datetime.strptime(df['DateTime'][index],'%m/%d/%Y %H:%M:%S')-dt.datetime.strptime(df['DateTime'][index],'%m/%d/%Y %H:%M:%S'))\n",
    "    else:\n",
    "        difflist.append(dt.datetime.strptime(df['DateTime'][index],'%m/%d/%Y %H:%M:%S')-dt.datetime.strptime(df['DateTime'][index-1],'%m/%d/%Y %H:%M:%S'))\n",
    "    "
   ]
  },
  {
   "cell_type": "code",
   "execution_count": 75,
   "metadata": {},
   "outputs": [
    {
     "data": {
      "text/html": [
       "<div>\n",
       "<style scoped>\n",
       "    .dataframe tbody tr th:only-of-type {\n",
       "        vertical-align: middle;\n",
       "    }\n",
       "\n",
       "    .dataframe tbody tr th {\n",
       "        vertical-align: top;\n",
       "    }\n",
       "\n",
       "    .dataframe thead th {\n",
       "        text-align: right;\n",
       "    }\n",
       "</style>\n",
       "<table border=\"1\" class=\"dataframe\">\n",
       "  <thead>\n",
       "    <tr style=\"text-align: right;\">\n",
       "      <th></th>\n",
       "      <th>Sleep Time</th>\n",
       "    </tr>\n",
       "  </thead>\n",
       "  <tbody>\n",
       "    <tr>\n",
       "      <th>0</th>\n",
       "      <td>00:00:00</td>\n",
       "    </tr>\n",
       "    <tr>\n",
       "      <th>1</th>\n",
       "      <td>01:10:00</td>\n",
       "    </tr>\n",
       "    <tr>\n",
       "      <th>2</th>\n",
       "      <td>04:06:00</td>\n",
       "    </tr>\n",
       "    <tr>\n",
       "      <th>3</th>\n",
       "      <td>01:16:00</td>\n",
       "    </tr>\n",
       "    <tr>\n",
       "      <th>4</th>\n",
       "      <td>03:33:00</td>\n",
       "    </tr>\n",
       "  </tbody>\n",
       "</table>\n",
       "</div>"
      ],
      "text/plain": [
       "  Sleep Time\n",
       "0   00:00:00\n",
       "1   01:10:00\n",
       "2   04:06:00\n",
       "3   01:16:00\n",
       "4   03:33:00"
      ]
     },
     "execution_count": 75,
     "metadata": {},
     "output_type": "execute_result"
    }
   ],
   "source": [
    "df_diff = pd.DataFrame(difflist,columns=['Sleep Time'])\n",
    "df_diff.head()"
   ]
  },
  {
   "cell_type": "code",
   "execution_count": 76,
   "metadata": {},
   "outputs": [
    {
     "data": {
      "text/html": [
       "<div>\n",
       "<style scoped>\n",
       "    .dataframe tbody tr th:only-of-type {\n",
       "        vertical-align: middle;\n",
       "    }\n",
       "\n",
       "    .dataframe tbody tr th {\n",
       "        vertical-align: top;\n",
       "    }\n",
       "\n",
       "    .dataframe thead th {\n",
       "        text-align: right;\n",
       "    }\n",
       "</style>\n",
       "<table border=\"1\" class=\"dataframe\">\n",
       "  <thead>\n",
       "    <tr style=\"text-align: right;\">\n",
       "      <th></th>\n",
       "      <th>index</th>\n",
       "      <th>Day</th>\n",
       "      <th>Date</th>\n",
       "      <th>Time</th>\n",
       "      <th>Activity</th>\n",
       "      <th>Sleep Duration</th>\n",
       "      <th>DateTime</th>\n",
       "      <th></th>\n",
       "      <th></th>\n",
       "      <th>Sleep Time</th>\n",
       "    </tr>\n",
       "  </thead>\n",
       "  <tbody>\n",
       "    <tr>\n",
       "      <th>1845</th>\n",
       "      <td>1845</td>\n",
       "      <td>742</td>\n",
       "      <td>3/17/2019</td>\n",
       "      <td>1:21 PM</td>\n",
       "      <td>Nap End</td>\n",
       "      <td>1:13:00</td>\n",
       "      <td>3/17/2019 13:21:00</td>\n",
       "      <td></td>\n",
       "      <td></td>\n",
       "      <td>01:13:00</td>\n",
       "    </tr>\n",
       "    <tr>\n",
       "      <th>1846</th>\n",
       "      <td>1846</td>\n",
       "      <td>742</td>\n",
       "      <td>3/17/2019</td>\n",
       "      <td>7:11 PM</td>\n",
       "      <td>Nap Start</td>\n",
       "      <td></td>\n",
       "      <td>3/17/2019 19:11:00</td>\n",
       "      <td></td>\n",
       "      <td></td>\n",
       "      <td>05:50:00</td>\n",
       "    </tr>\n",
       "    <tr>\n",
       "      <th>1847</th>\n",
       "      <td>1847</td>\n",
       "      <td>743</td>\n",
       "      <td>3/18/2019</td>\n",
       "      <td>5:56 AM</td>\n",
       "      <td>Nap End</td>\n",
       "      <td>10:45:00</td>\n",
       "      <td>3/18/2019 5:56:00</td>\n",
       "      <td></td>\n",
       "      <td></td>\n",
       "      <td>10:45:00</td>\n",
       "    </tr>\n",
       "    <tr>\n",
       "      <th>1848</th>\n",
       "      <td>1848</td>\n",
       "      <td>743</td>\n",
       "      <td>3/18/2019</td>\n",
       "      <td>12:14 PM</td>\n",
       "      <td>Nap Start</td>\n",
       "      <td></td>\n",
       "      <td>3/18/2019 12:14:00</td>\n",
       "      <td></td>\n",
       "      <td></td>\n",
       "      <td>06:18:00</td>\n",
       "    </tr>\n",
       "    <tr>\n",
       "      <th>1849</th>\n",
       "      <td>1849</td>\n",
       "      <td>743</td>\n",
       "      <td>3/18/2019</td>\n",
       "      <td>2:40 PM</td>\n",
       "      <td>Nap End</td>\n",
       "      <td>2:26:00</td>\n",
       "      <td>3/18/2019 14:40:00</td>\n",
       "      <td></td>\n",
       "      <td></td>\n",
       "      <td>02:26:00</td>\n",
       "    </tr>\n",
       "  </tbody>\n",
       "</table>\n",
       "</div>"
      ],
      "text/plain": [
       "      index  Day       Date      Time   Activity Sleep Duration  \\\n",
       "1845   1845  742  3/17/2019   1:21 PM    Nap End        1:13:00   \n",
       "1846   1846  742  3/17/2019   7:11 PM  Nap Start                  \n",
       "1847   1847  743  3/18/2019   5:56 AM    Nap End       10:45:00   \n",
       "1848   1848  743  3/18/2019  12:14 PM  Nap Start                  \n",
       "1849   1849  743  3/18/2019   2:40 PM    Nap End        2:26:00   \n",
       "\n",
       "                DateTime     Sleep Time  \n",
       "1845  3/17/2019 13:21:00       01:13:00  \n",
       "1846  3/17/2019 19:11:00       05:50:00  \n",
       "1847   3/18/2019 5:56:00       10:45:00  \n",
       "1848  3/18/2019 12:14:00       06:18:00  \n",
       "1849  3/18/2019 14:40:00       02:26:00  "
      ]
     },
     "execution_count": 76,
     "metadata": {},
     "output_type": "execute_result"
    }
   ],
   "source": [
    "cdf = pd.concat([df,df_diff], axis=1, join='outer')\n",
    "cdf.tail()"
   ]
  },
  {
   "cell_type": "code",
   "execution_count": 47,
   "metadata": {},
   "outputs": [],
   "source": [
    "# OPtional code to add a column with DateTime in datatime datatype\n",
    "# df['DateStrtoDatetime'] = df['DateTime'].apply(lambda x:dt.datetime.strptime(x,'%m/%d/%Y %H:%M:%S')) "
   ]
  },
  {
   "cell_type": "code",
   "execution_count": 77,
   "metadata": {},
   "outputs": [
    {
     "data": {
      "text/html": [
       "<div>\n",
       "<style scoped>\n",
       "    .dataframe tbody tr th:only-of-type {\n",
       "        vertical-align: middle;\n",
       "    }\n",
       "\n",
       "    .dataframe tbody tr th {\n",
       "        vertical-align: top;\n",
       "    }\n",
       "\n",
       "    .dataframe thead th {\n",
       "        text-align: right;\n",
       "    }\n",
       "</style>\n",
       "<table border=\"1\" class=\"dataframe\">\n",
       "  <thead>\n",
       "    <tr style=\"text-align: right;\">\n",
       "      <th></th>\n",
       "      <th>index</th>\n",
       "      <th>Day</th>\n",
       "      <th>Date</th>\n",
       "      <th>Time</th>\n",
       "      <th>Activity</th>\n",
       "      <th>Sleep Duration</th>\n",
       "      <th>DateTime</th>\n",
       "      <th></th>\n",
       "      <th></th>\n",
       "      <th>Sleep Time</th>\n",
       "    </tr>\n",
       "  </thead>\n",
       "  <tbody>\n",
       "    <tr>\n",
       "      <th>1</th>\n",
       "      <td>1</td>\n",
       "      <td>365</td>\n",
       "      <td>3/5/2018</td>\n",
       "      <td>11:05 AM</td>\n",
       "      <td>Nap End</td>\n",
       "      <td>1:10:00</td>\n",
       "      <td>3/5/2018 11:05:00</td>\n",
       "      <td></td>\n",
       "      <td></td>\n",
       "      <td>01:10:00</td>\n",
       "    </tr>\n",
       "    <tr>\n",
       "      <th>3</th>\n",
       "      <td>3</td>\n",
       "      <td>365</td>\n",
       "      <td>3/5/2018</td>\n",
       "      <td>4:27 PM</td>\n",
       "      <td>Nap End</td>\n",
       "      <td>1:16:00</td>\n",
       "      <td>3/5/2018 16:27:00</td>\n",
       "      <td></td>\n",
       "      <td></td>\n",
       "      <td>01:16:00</td>\n",
       "    </tr>\n",
       "    <tr>\n",
       "      <th>5</th>\n",
       "      <td>5</td>\n",
       "      <td>366</td>\n",
       "      <td>3/6/2018</td>\n",
       "      <td>5:57 AM</td>\n",
       "      <td>Nap End</td>\n",
       "      <td>9:57:00</td>\n",
       "      <td>3/6/2018 5:57:00</td>\n",
       "      <td></td>\n",
       "      <td></td>\n",
       "      <td>09:57:00</td>\n",
       "    </tr>\n",
       "    <tr>\n",
       "      <th>7</th>\n",
       "      <td>7</td>\n",
       "      <td>366</td>\n",
       "      <td>3/6/2018</td>\n",
       "      <td>10:50 AM</td>\n",
       "      <td>Nap End</td>\n",
       "      <td>1:45:00</td>\n",
       "      <td>3/6/2018 10:50:00</td>\n",
       "      <td></td>\n",
       "      <td></td>\n",
       "      <td>01:45:00</td>\n",
       "    </tr>\n",
       "    <tr>\n",
       "      <th>9</th>\n",
       "      <td>9</td>\n",
       "      <td>366</td>\n",
       "      <td>3/6/2018</td>\n",
       "      <td>4:05 PM</td>\n",
       "      <td>Nap End</td>\n",
       "      <td>1:35:00</td>\n",
       "      <td>3/6/2018 16:05:00</td>\n",
       "      <td></td>\n",
       "      <td></td>\n",
       "      <td>01:35:00</td>\n",
       "    </tr>\n",
       "  </tbody>\n",
       "</table>\n",
       "</div>"
      ],
      "text/plain": [
       "   index  Day      Date      Time Activity Sleep Duration           DateTime  \\\n",
       "1      1  365  3/5/2018  11:05 AM  Nap End        1:10:00  3/5/2018 11:05:00   \n",
       "3      3  365  3/5/2018   4:27 PM  Nap End        1:16:00  3/5/2018 16:27:00   \n",
       "5      5  366  3/6/2018   5:57 AM  Nap End        9:57:00   3/6/2018 5:57:00   \n",
       "7      7  366  3/6/2018  10:50 AM  Nap End        1:45:00  3/6/2018 10:50:00   \n",
       "9      9  366  3/6/2018   4:05 PM  Nap End        1:35:00  3/6/2018 16:05:00   \n",
       "\n",
       "      Sleep Time  \n",
       "1       01:10:00  \n",
       "3       01:16:00  \n",
       "5       09:57:00  \n",
       "7       01:45:00  \n",
       "9       01:35:00  "
      ]
     },
     "execution_count": 77,
     "metadata": {},
     "output_type": "execute_result"
    }
   ],
   "source": [
    "end_df = cdf[cdf['Activity']==\"Nap End\"]\n",
    "end_df.head()"
   ]
  },
  {
   "cell_type": "code",
   "execution_count": 78,
   "metadata": {},
   "outputs": [
    {
     "data": {
      "text/plain": [
       "Timedelta('0 days 00:10:00')"
      ]
     },
     "execution_count": 78,
     "metadata": {},
     "output_type": "execute_result"
    }
   ],
   "source": [
    "end_df['Sleep Time'].min()"
   ]
  },
  {
   "cell_type": "code",
   "execution_count": 92,
   "metadata": {},
   "outputs": [
    {
     "data": {
      "text/html": [
       "<div>\n",
       "<style scoped>\n",
       "    .dataframe tbody tr th:only-of-type {\n",
       "        vertical-align: middle;\n",
       "    }\n",
       "\n",
       "    .dataframe tbody tr th {\n",
       "        vertical-align: top;\n",
       "    }\n",
       "\n",
       "    .dataframe thead th {\n",
       "        text-align: right;\n",
       "    }\n",
       "</style>\n",
       "<table border=\"1\" class=\"dataframe\">\n",
       "  <thead>\n",
       "    <tr style=\"text-align: right;\">\n",
       "      <th></th>\n",
       "      <th>index</th>\n",
       "      <th>Day</th>\n",
       "      <th>Date</th>\n",
       "      <th>Time</th>\n",
       "      <th>Activity</th>\n",
       "      <th>Sleep Duration</th>\n",
       "      <th>DateTime</th>\n",
       "      <th></th>\n",
       "      <th></th>\n",
       "      <th>Sleep Time</th>\n",
       "    </tr>\n",
       "  </thead>\n",
       "  <tbody>\n",
       "    <tr>\n",
       "      <th>1459</th>\n",
       "      <td>1459</td>\n",
       "      <td>644</td>\n",
       "      <td>12/9/2018</td>\n",
       "      <td>8:07 AM</td>\n",
       "      <td>Nap End</td>\n",
       "      <td>13:39:00</td>\n",
       "      <td>12/9/2018 8:07:00</td>\n",
       "      <td></td>\n",
       "      <td></td>\n",
       "      <td>13:39:00</td>\n",
       "    </tr>\n",
       "    <tr>\n",
       "      <th>1796</th>\n",
       "      <td>1796</td>\n",
       "      <td>730</td>\n",
       "      <td>3/5/2019</td>\n",
       "      <td>7:08 PM</td>\n",
       "      <td>Nap Start</td>\n",
       "      <td></td>\n",
       "      <td>3/5/2019 19:08:00</td>\n",
       "      <td></td>\n",
       "      <td></td>\n",
       "      <td>14:00:00</td>\n",
       "    </tr>\n",
       "  </tbody>\n",
       "</table>\n",
       "</div>"
      ],
      "text/plain": [
       "      index  Day       Date     Time   Activity Sleep Duration  \\\n",
       "1459   1459  644  12/9/2018  8:07 AM    Nap End       13:39:00   \n",
       "1796   1796  730   3/5/2019  7:08 PM  Nap Start                  \n",
       "\n",
       "               DateTime     Sleep Time  \n",
       "1459  12/9/2018 8:07:00       13:39:00  \n",
       "1796  3/5/2019 19:08:00       14:00:00  "
      ]
     },
     "execution_count": 92,
     "metadata": {},
     "output_type": "execute_result"
    }
   ],
   "source": [
    "cdf[(cdf['Sleep Time']>'0 days 13:00:00')]\n",
    "        "
   ]
  },
  {
   "cell_type": "code",
   "execution_count": null,
   "metadata": {},
   "outputs": [],
   "source": []
  },
  {
   "cell_type": "code",
   "execution_count": 78,
   "metadata": {},
   "outputs": [
    {
     "data": {
      "text/plain": [
       "RangeIndex(start=0, stop=1838, step=1)"
      ]
     },
     "execution_count": 78,
     "metadata": {},
     "output_type": "execute_result"
    }
   ],
   "source": [
    "df.index"
   ]
  },
  {
   "cell_type": "code",
   "execution_count": null,
   "metadata": {},
   "outputs": [],
   "source": []
  },
  {
   "cell_type": "code",
   "execution_count": null,
   "metadata": {},
   "outputs": [],
   "source": []
  },
  {
   "cell_type": "code",
   "execution_count": null,
   "metadata": {},
   "outputs": [],
   "source": []
  },
  {
   "cell_type": "code",
   "execution_count": null,
   "metadata": {},
   "outputs": [],
   "source": []
  }
 ],
 "metadata": {
  "kernelspec": {
   "display_name": "Python 3",
   "language": "python",
   "name": "python3"
  },
  "language_info": {
   "codemirror_mode": {
    "name": "ipython",
    "version": 3
   },
   "file_extension": ".py",
   "mimetype": "text/x-python",
   "name": "python",
   "nbconvert_exporter": "python",
   "pygments_lexer": "ipython3",
   "version": "3.7.0"
  }
 },
 "nbformat": 4,
 "nbformat_minor": 2
}
