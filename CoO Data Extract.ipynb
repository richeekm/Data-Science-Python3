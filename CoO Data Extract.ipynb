{
 "cells": [
  {
   "cell_type": "code",
   "execution_count": 1,
   "metadata": {},
   "outputs": [
    {
     "name": "stderr",
     "output_type": "stream",
     "text": [
      "C:\\Users\\r0m02cf\\AppData\\Local\\Continuum\\anaconda3\\lib\\site-packages\\pandas\\compat\\_optional.py:138: UserWarning: Pandas requires version '2.7.0' or newer of 'numexpr' (version '2.6.9' currently installed).\n",
      "  warnings.warn(msg, UserWarning)\n"
     ]
    }
   ],
   "source": [
    "import numpy as np\n",
    "import pandas as pd"
   ]
  },
  {
   "cell_type": "code",
   "execution_count": 2,
   "metadata": {},
   "outputs": [],
   "source": [
    "#Load the data into a dataframe\n",
    "df = pd.read_csv('C:/Users/r0m02cf/Downloads/CY2020_US_Imports_from_All_Trade_Partners_for_All_Products_25_04_2022_05_52_25_599267_7/DataExtract.csv')"
   ]
  },
  {
   "cell_type": "code",
   "execution_count": 3,
   "metadata": {},
   "outputs": [],
   "source": [
    "# Check the dataframe"
   ]
  },
  {
   "cell_type": "code",
   "execution_count": 4,
   "metadata": {
    "scrolled": true
   },
   "outputs": [
    {
     "data": {
      "text/html": [
       "<div>\n",
       "<style scoped>\n",
       "    .dataframe tbody tr th:only-of-type {\n",
       "        vertical-align: middle;\n",
       "    }\n",
       "\n",
       "    .dataframe tbody tr th {\n",
       "        vertical-align: top;\n",
       "    }\n",
       "\n",
       "    .dataframe thead th {\n",
       "        text-align: right;\n",
       "    }\n",
       "</style>\n",
       "<table border=\"1\" class=\"dataframe\">\n",
       "  <thead>\n",
       "    <tr style=\"text-align: right;\">\n",
       "      <th></th>\n",
       "      <th>Year</th>\n",
       "      <th>Month</th>\n",
       "      <th>Reporter</th>\n",
       "      <th>Trade Direction</th>\n",
       "      <th>Trade Partner</th>\n",
       "      <th>HS4 Code</th>\n",
       "      <th>HS4 Description</th>\n",
       "      <th>HS6 Code</th>\n",
       "      <th>HS6 Description</th>\n",
       "      <th>Tariff Line Code</th>\n",
       "      <th>Tariff Line Description</th>\n",
       "      <th>USD</th>\n",
       "      <th>Primary Quantity</th>\n",
       "      <th>Unit Price</th>\n",
       "      <th>Primary Units</th>\n",
       "    </tr>\n",
       "  </thead>\n",
       "  <tbody>\n",
       "    <tr>\n",
       "      <th>0</th>\n",
       "      <td>2020</td>\n",
       "      <td>1</td>\n",
       "      <td>United States</td>\n",
       "      <td>Import</td>\n",
       "      <td>Argentina</td>\n",
       "      <td>101</td>\n",
       "      <td>Horses, Asses, Mules And Hinnies, Live</td>\n",
       "      <td>10121</td>\n",
       "      <td>Horses, Live, Purebred Breeding</td>\n",
       "      <td>101210010</td>\n",
       "      <td>Horses, Live, Purebred Breeding Male</td>\n",
       "      <td>12000</td>\n",
       "      <td>1</td>\n",
       "      <td>12000.0</td>\n",
       "      <td>NO</td>\n",
       "    </tr>\n",
       "    <tr>\n",
       "      <th>1</th>\n",
       "      <td>2020</td>\n",
       "      <td>9</td>\n",
       "      <td>United States</td>\n",
       "      <td>Import</td>\n",
       "      <td>Argentina</td>\n",
       "      <td>101</td>\n",
       "      <td>Horses, Asses, Mules And Hinnies, Live</td>\n",
       "      <td>10121</td>\n",
       "      <td>Horses, Live, Purebred Breeding</td>\n",
       "      <td>101210010</td>\n",
       "      <td>Horses, Live, Purebred Breeding Male</td>\n",
       "      <td>6000</td>\n",
       "      <td>1</td>\n",
       "      <td>6000.0</td>\n",
       "      <td>NO</td>\n",
       "    </tr>\n",
       "  </tbody>\n",
       "</table>\n",
       "</div>"
      ],
      "text/plain": [
       "   Year  Month       Reporter Trade Direction Trade Partner  HS4 Code  \\\n",
       "0  2020      1  United States          Import     Argentina       101   \n",
       "1  2020      9  United States          Import     Argentina       101   \n",
       "\n",
       "                          HS4 Description  HS6 Code  \\\n",
       "0  Horses, Asses, Mules And Hinnies, Live     10121   \n",
       "1  Horses, Asses, Mules And Hinnies, Live     10121   \n",
       "\n",
       "                   HS6 Description  Tariff Line Code  \\\n",
       "0  Horses, Live, Purebred Breeding         101210010   \n",
       "1  Horses, Live, Purebred Breeding         101210010   \n",
       "\n",
       "                Tariff Line Description    USD  Primary Quantity  Unit Price  \\\n",
       "0  Horses, Live, Purebred Breeding Male  12000                 1     12000.0   \n",
       "1  Horses, Live, Purebred Breeding Male   6000                 1      6000.0   \n",
       "\n",
       "  Primary Units  \n",
       "0            NO  \n",
       "1            NO  "
      ]
     },
     "execution_count": 4,
     "metadata": {},
     "output_type": "execute_result"
    }
   ],
   "source": [
    "df.head(2)"
   ]
  },
  {
   "cell_type": "code",
   "execution_count": 5,
   "metadata": {
    "scrolled": true
   },
   "outputs": [],
   "source": [
    "# Summarize the dataframe by HS6 Code and Trade Partner"
   ]
  },
  {
   "cell_type": "code",
   "execution_count": 6,
   "metadata": {},
   "outputs": [],
   "source": [
    "coo_summary = df.pivot_table(values=\"USD\",index=\"HS6 Code\",columns=\"Trade Partner\",\n",
    "    aggfunc='sum', dropna=True,fill_value=0)"
   ]
  },
  {
   "cell_type": "code",
   "execution_count": 7,
   "metadata": {},
   "outputs": [
    {
     "data": {
      "text/html": [
       "<div>\n",
       "<style scoped>\n",
       "    .dataframe tbody tr th:only-of-type {\n",
       "        vertical-align: middle;\n",
       "    }\n",
       "\n",
       "    .dataframe tbody tr th {\n",
       "        vertical-align: top;\n",
       "    }\n",
       "\n",
       "    .dataframe thead th {\n",
       "        text-align: right;\n",
       "    }\n",
       "</style>\n",
       "<table border=\"1\" class=\"dataframe\">\n",
       "  <thead>\n",
       "    <tr style=\"text-align: right;\">\n",
       "      <th>Trade Partner</th>\n",
       "      <th>Afghanistan</th>\n",
       "      <th>Albania</th>\n",
       "      <th>Algeria</th>\n",
       "      <th>Andorra</th>\n",
       "      <th>Angola</th>\n",
       "      <th>Anguilla</th>\n",
       "      <th>Antigua &amp; Barbuda</th>\n",
       "      <th>Argentina</th>\n",
       "      <th>Armenia</th>\n",
       "      <th>Aruba</th>\n",
       "      <th>...</th>\n",
       "      <th>Vatican City State</th>\n",
       "      <th>Venezuela</th>\n",
       "      <th>Vietnam</th>\n",
       "      <th>Virgin Islands (British)</th>\n",
       "      <th>Wallis &amp; Futuna Islands</th>\n",
       "      <th>West Bank</th>\n",
       "      <th>Western Sahara</th>\n",
       "      <th>Yemen</th>\n",
       "      <th>Zambia</th>\n",
       "      <th>Zimbabwe</th>\n",
       "    </tr>\n",
       "    <tr>\n",
       "      <th>HS6 Code</th>\n",
       "      <th></th>\n",
       "      <th></th>\n",
       "      <th></th>\n",
       "      <th></th>\n",
       "      <th></th>\n",
       "      <th></th>\n",
       "      <th></th>\n",
       "      <th></th>\n",
       "      <th></th>\n",
       "      <th></th>\n",
       "      <th></th>\n",
       "      <th></th>\n",
       "      <th></th>\n",
       "      <th></th>\n",
       "      <th></th>\n",
       "      <th></th>\n",
       "      <th></th>\n",
       "      <th></th>\n",
       "      <th></th>\n",
       "      <th></th>\n",
       "      <th></th>\n",
       "    </tr>\n",
       "  </thead>\n",
       "  <tbody>\n",
       "    <tr>\n",
       "      <th>10121</th>\n",
       "      <td>0</td>\n",
       "      <td>0</td>\n",
       "      <td>0</td>\n",
       "      <td>0</td>\n",
       "      <td>0</td>\n",
       "      <td>0</td>\n",
       "      <td>0</td>\n",
       "      <td>2248869</td>\n",
       "      <td>0</td>\n",
       "      <td>0</td>\n",
       "      <td>...</td>\n",
       "      <td>0</td>\n",
       "      <td>0</td>\n",
       "      <td>0</td>\n",
       "      <td>0</td>\n",
       "      <td>0</td>\n",
       "      <td>0</td>\n",
       "      <td>0</td>\n",
       "      <td>0</td>\n",
       "      <td>0</td>\n",
       "      <td>0</td>\n",
       "    </tr>\n",
       "    <tr>\n",
       "      <th>10129</th>\n",
       "      <td>0</td>\n",
       "      <td>0</td>\n",
       "      <td>0</td>\n",
       "      <td>0</td>\n",
       "      <td>0</td>\n",
       "      <td>0</td>\n",
       "      <td>0</td>\n",
       "      <td>4565856</td>\n",
       "      <td>0</td>\n",
       "      <td>0</td>\n",
       "      <td>...</td>\n",
       "      <td>0</td>\n",
       "      <td>9000</td>\n",
       "      <td>0</td>\n",
       "      <td>0</td>\n",
       "      <td>0</td>\n",
       "      <td>0</td>\n",
       "      <td>0</td>\n",
       "      <td>0</td>\n",
       "      <td>0</td>\n",
       "      <td>0</td>\n",
       "    </tr>\n",
       "  </tbody>\n",
       "</table>\n",
       "<p>2 rows × 233 columns</p>\n",
       "</div>"
      ],
      "text/plain": [
       "Trade Partner  Afghanistan  Albania  Algeria  Andorra  Angola  Anguilla  \\\n",
       "HS6 Code                                                                  \n",
       "10121                    0        0        0        0       0         0   \n",
       "10129                    0        0        0        0       0         0   \n",
       "\n",
       "Trade Partner  Antigua & Barbuda  Argentina  Armenia  Aruba  ...  \\\n",
       "HS6 Code                                                     ...   \n",
       "10121                          0    2248869        0      0  ...   \n",
       "10129                          0    4565856        0      0  ...   \n",
       "\n",
       "Trade Partner  Vatican City State  Venezuela  Vietnam  \\\n",
       "HS6 Code                                                \n",
       "10121                           0          0        0   \n",
       "10129                           0       9000        0   \n",
       "\n",
       "Trade Partner  Virgin Islands (British)  Wallis & Futuna Islands  West Bank  \\\n",
       "HS6 Code                                                                      \n",
       "10121                                 0                        0          0   \n",
       "10129                                 0                        0          0   \n",
       "\n",
       "Trade Partner  Western Sahara  Yemen  Zambia  Zimbabwe  \n",
       "HS6 Code                                                \n",
       "10121                       0      0       0         0  \n",
       "10129                       0      0       0         0  \n",
       "\n",
       "[2 rows x 233 columns]"
      ]
     },
     "execution_count": 7,
     "metadata": {},
     "output_type": "execute_result"
    }
   ],
   "source": [
    "coo_summary.head(2)"
   ]
  },
  {
   "cell_type": "code",
   "execution_count": 8,
   "metadata": {},
   "outputs": [],
   "source": [
    "#Export the parsed and summarized dataframe into a csv file\n",
    "coo_summary.to_csv('C:/Users/r0m02cf/Downloads/coo_2020.csv')"
   ]
  },
  {
   "cell_type": "code",
   "execution_count": null,
   "metadata": {},
   "outputs": [],
   "source": []
  },
  {
   "cell_type": "code",
   "execution_count": null,
   "metadata": {},
   "outputs": [],
   "source": []
  }
 ],
 "metadata": {
  "kernelspec": {
   "display_name": "Python 3",
   "language": "python",
   "name": "python3"
  },
  "language_info": {
   "codemirror_mode": {
    "name": "ipython",
    "version": 3
   },
   "file_extension": ".py",
   "mimetype": "text/x-python",
   "name": "python",
   "nbconvert_exporter": "python",
   "pygments_lexer": "ipython3",
   "version": "3.7.3"
  }
 },
 "nbformat": 4,
 "nbformat_minor": 2
}
